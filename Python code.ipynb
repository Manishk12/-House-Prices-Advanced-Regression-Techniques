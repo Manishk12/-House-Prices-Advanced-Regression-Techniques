{
 "cells": [
  {
   "cell_type": "markdown",
   "metadata": {
    "_uuid": "9fb14b34ffec2cb8abc1dd6ba1c909efd46a17df"
   },
   "source": [
    "# Part 0 : Imports, Settings, Functions"
   ]
  },
  {
   "cell_type": "markdown",
   "metadata": {
    "_cell_guid": "34cc54f9-5583-4ca9-a76b-98e45a0b69f3",
    "_uuid": "27d5d45122e03355b33ea5791f28a1b40e21a145"
   },
   "source": [
    "**Imports**"
   ]
  },
  {
   "cell_type": "code",
   "execution_count": null,
   "metadata": {
    "_cell_guid": "89e72d57-b9d7-4177-9f5d-20b64aa70079",
    "_uuid": "f04493bd659df7489e86ae875b7ee5ba80b52d7b"
   },
   "outputs": [],
   "source": [
    "import numpy as np\n",
    "import pandas as pd\n",
    "pd.set_option('max_columns', 105)\n",
    "import matplotlib.pyplot as plt\n",
    "import seaborn as sns\n",
    "from scipy import stats\n",
    "%matplotlib inline\n",
    "sns.set()\n",
    "\n",
    "import warnings\n",
    "warnings.filterwarnings(\"ignore\", category=FutureWarning)\n",
    "warnings.filterwarnings(\"ignore\", category=DeprecationWarning)\n",
    "#warnings.filterwarnings(\"ignore\")\n",
    "\n",
    "from subprocess import check_output\n",
    "print(check_output([\"ls\", \"../input\"]).decode(\"utf8\"))"
   ]
  },
  {
   "cell_type": "markdown",
   "metadata": {
    "_cell_guid": "eea75387-febe-4c39-bb7d-a583fbd10c1a",
    "_uuid": "ffeeeaceec078686978d6d595f5506ef0ae908cc"
   },
   "source": [
    "**Settings and switches**\n",
    "\n",
    "**Here one can choose settings for optimal performance and runtime.**  \n",
    "**For example, nr_cv sets the number of cross validations used in GridsearchCV, and**  \n",
    "**min_val_corr is the minimum value for the correlation coefficient to the target (only features with larger correlation will be used).** "
   ]
  },
  {
   "cell_type": "code",
   "execution_count": null,
   "metadata": {
    "_cell_guid": "0f476e40-35bb-478d-b0e9-0c8202b9d4cb",
    "_uuid": "285163115ecc289d7ed30852a893651c95709f67"
   },
   "outputs": [],
   "source": [
    "# setting the number of cross validations used in the Model part \n",
    "nr_cv = 5\n",
    "\n",
    "# switch for using log values for SalePrice and features     \n",
    "use_logvals = 1    \n",
    "# target used for correlation \n",
    "target = 'SalePrice_Log'\n",
    "    \n",
    "# only columns with correlation above this threshold value  \n",
    "# are used for the ML Regressors in Part 3\n",
    "min_val_corr = 0.4    \n",
    "    \n",
    "# switch for dropping columns that are similar to others already used and show a high correlation to these     \n",
    "drop_similar = 1\n"
   ]
  },
  {
   "cell_type": "markdown",
   "metadata": {
    "_cell_guid": "f5292dce-4dd8-4151-95ea-0c218a4fe766",
    "_uuid": "7fc2d016e1db6eb767c6d0d26a6749d1ab3eff53",
    "collapsed": true
   },
   "source": [
    "**Some useful functions**"
   ]
  },
  {
   "cell_type": "code",
   "execution_count": null,
   "metadata": {
    "_cell_guid": "057d5b75-ff87-4ad0-9672-a73e0617b99e",
    "_uuid": "6ea84781773f023c3b9542ee8bb8db63e9c96637"
   },
   "outputs": [],
   "source": [
    "def get_best_score(grid):\n",
    "    \n",
    "    best_score = np.sqrt(-grid.best_score_)\n",
    "    print(best_score)    \n",
    "    print(grid.best_params_)\n",
    "    print(grid.best_estimator_)\n",
    "    \n",
    "    return best_score"
   ]
  },
  {
   "cell_type": "code",
   "execution_count": null,
   "metadata": {
    "_uuid": "5092766e8f2ef20502333ac3091bcc3021538c09"
   },
   "outputs": [],
   "source": [
    "def print_cols_large_corr(df, nr_c, targ) :\n",
    "    corr = df.corr()\n",
    "    corr_abs = corr.abs()\n",
    "    print (corr_abs.nlargest(nr_c, targ)[targ])"
   ]
  },
  {
   "cell_type": "code",
   "execution_count": null,
   "metadata": {
    "_uuid": "46528460a577bfea1ea1ab167449e4ba52a1e919"
   },
   "outputs": [],
   "source": [
    "def plot_corr_matrix(df, nr_c, targ) :\n",
    "    \n",
    "    corr = df.corr()\n",
    "    corr_abs = corr.abs()\n",
    "    cols = corr_abs.nlargest(nr_c, targ)[targ].index\n",
    "    cm = np.corrcoef(df[cols].values.T)\n",
    "\n",
    "    plt.figure(figsize=(nr_c/1.5, nr_c/1.5))\n",
    "    sns.set(font_scale=1.25)\n",
    "    sns.heatmap(cm, linewidths=1.5, annot=True, square=True, \n",
    "                fmt='.2f', annot_kws={'size': 10}, \n",
    "                yticklabels=cols.values, xticklabels=cols.values\n",
    "               )\n",
    "    plt.show()"
   ]
  },
  {
   "cell_type": "markdown",
   "metadata": {
    "_uuid": "77a7612a4791427a113365783c7cbb4a67d9756a"
   },
   "source": [
    "**Load data**"
   ]
  },
  {
   "cell_type": "code",
   "execution_count": null,
   "metadata": {
    "_cell_guid": "3cce51f8-5c6d-427d-a3d7-3a1f373ffe34",
    "_uuid": "8135e906c9331e3c7d5367bcccf1094e4df61215"
   },
   "outputs": [],
   "source": [
    "df_train = pd.read_csv(\"../input/train.csv\")\n",
    "df_test = pd.read_csv(\"../input/test.csv\")"
   ]
  },
  {
   "cell_type": "markdown",
   "metadata": {
    "_cell_guid": "61c5da7a-2de7-452a-bf5f-ad68abb6d330",
    "_uuid": "69b70163d8969a89c489f878a0f30951bfe60dbc"
   },
   "source": [
    "# Part 1: Exploratory Data Analysis"
   ]
  },
  {
   "cell_type": "markdown",
   "metadata": {
    "_uuid": "c9eab5a43178fb4c9a136f05f15392275543a561"
   },
   "source": [
    "## 1.1 Overview of features and relation to target\n",
    "\n",
    "Let's get a first overview of the train and test dataset  \n",
    "How many rows and columns are there?  \n",
    "What are the names of the features (columns)?  \n",
    "Which features are numerical, which are categorical?  \n",
    "How many values are missing?  \n",
    "The **shape** and **info** methods answer these questions  \n",
    "**head** displays some rows of the dataset  \n",
    "**describe** gives a summary of the statistics (only for numerical columns)"
   ]
  },
  {
   "cell_type": "markdown",
   "metadata": {
    "_uuid": "34ebeb3614af647b712def6dd719d37ef403f48d"
   },
   "source": [
    "### shape, info, head and describe"
   ]
  },
  {
   "cell_type": "code",
   "execution_count": null,
   "metadata": {
    "_uuid": "3840459e7dee8f7c4baafe4526e6b48a72027bd2"
   },
   "outputs": [],
   "source": [
    "print(df_train.shape)\n",
    "print(\"*\"*50)\n",
    "print(df_test.shape)"
   ]
  },
  {
   "cell_type": "code",
   "execution_count": null,
   "metadata": {
    "_cell_guid": "d65ba66f-3e11-4f2b-82fc-c0bbfdee6f11",
    "_kg_hide-output": true,
    "_uuid": "62ffac9551576e0fe80d015587f54ce5871ffd9a"
   },
   "outputs": [],
   "source": [
    "print(df_train.info())\n",
    "print(\"*\"*50)\n",
    "print(df_test.info())"
   ]
  },
  {
   "cell_type": "markdown",
   "metadata": {
    "_uuid": "a3eb4f26c71315d8c691b0201151a4c6825a7666"
   },
   "source": [
    "df train has 81 columns (79 features + id and target SalePrice) and 1460 entries (number of rows or house sales)  \n",
    "df test has 80 columns (79 features + id) and 1459 entries  \n",
    "There is lots of info that is probably related to the SalePrice like the area, the neighborhood, the condition and quality.   \n",
    "Maybe other features are not so important for predicting the target, also there might be a strong correlation for some of the features (like GarageCars and GarageArea).\n",
    "For some columns many values are missing: only 7 values for Pool QC in df train and 3 in df test"
   ]
  },
  {
   "cell_type": "code",
   "execution_count": null,
   "metadata": {
    "_cell_guid": "48ae64d6-e522-4c59-a8f3-1c59e71dcd94",
    "_uuid": "7a604a2a6bd0a13ad915c5cbbf0acb4f38d2893b"
   },
   "outputs": [],
   "source": [
    "df_train.head()"
   ]
  },
  {
   "cell_type": "code",
   "execution_count": null,
   "metadata": {
    "_cell_guid": "ea6df0a7-5ba9-4db2-92a9-3f32f3d28e1d",
    "_uuid": "161bd00d030e1b6972f742eb1fbc32d30731bb01"
   },
   "outputs": [],
   "source": [
    "df_train.describe()"
   ]
  },
  {
   "cell_type": "code",
   "execution_count": null,
   "metadata": {
    "_cell_guid": "3ff76e49-83d7-471d-af48-122ff2fd397c",
    "_uuid": "77705b1c529ad131b1f9199ba893ecd0571ae9de"
   },
   "outputs": [],
   "source": [
    "df_test.head()"
   ]
  },
  {
   "cell_type": "code",
   "execution_count": null,
   "metadata": {
    "_cell_guid": "251d0cd4-6f9e-4776-97b0-88c9214f2672",
    "_uuid": "38f68c6dac7e96f09095d56ac67b74c1d83b4db6"
   },
   "outputs": [],
   "source": [
    "df_test.describe()"
   ]
  },
  {
   "cell_type": "markdown",
   "metadata": {
    "_cell_guid": "d52ea3c6-9eee-4aa7-80ae-28b280ae4913",
    "_uuid": "ed5073f4fb41835a6322659f1ba57edbb8edc57e"
   },
   "source": [
    "### The target variable : Distribution of SalePrice"
   ]
  },
  {
   "cell_type": "code",
   "execution_count": null,
   "metadata": {
    "_cell_guid": "152d0e08-da50-490d-b8ab-12b7cb48a8ea",
    "_uuid": "8256685836f9778ed7b4951a3fc329fed7eca9a1"
   },
   "outputs": [],
   "source": [
    "sns.distplot(df_train['SalePrice']);\n",
    "#skewness and kurtosis\n",
    "print(\"Skewness: %f\" % df_train['SalePrice'].skew())\n",
    "print(\"Kurtosis: %f\" % df_train['SalePrice'].kurt())"
   ]
  },
  {
   "cell_type": "markdown",
   "metadata": {
    "_uuid": "0205d7d207ce3957c9f2a7075f5f7ab869819f9f"
   },
   "source": [
    "As we see, the target variable SalePrice is not normally distributed.  \n",
    "This can reduce the performance of the ML regression models because some assume normal distribution,   \n",
    "see [sklearn info on preprocessing](http://scikit-learn.org/stable/modules/preprocessing.html)  \n",
    "Therfore we make a log transformation, the resulting distribution looks much better.  "
   ]
  },
  {
   "cell_type": "code",
   "execution_count": null,
   "metadata": {
    "_cell_guid": "675637e3-cb17-4293-a8de-6c76e54c66fa",
    "_uuid": "db58309636315f63342339161948c986a281f885"
   },
   "outputs": [],
   "source": [
    "df_train['SalePrice_Log'] = np.log(df_train['SalePrice'])\n",
    "\n",
    "sns.distplot(df_train['SalePrice_Log']);\n",
    "# skewness and kurtosis\n",
    "print(\"Skewness: %f\" % df_train['SalePrice_Log'].skew())\n",
    "print(\"Kurtosis: %f\" % df_train['SalePrice_Log'].kurt())\n",
    "# dropping old column\n",
    "df_train.drop('SalePrice', axis= 1, inplace=True)"
   ]
  },
  {
   "cell_type": "markdown",
   "metadata": {
    "_cell_guid": "79c7e3d0-c299-4dcb-8224-4455121ee9b0",
    "_uuid": "d629ff2d2480ee46fbb7e2d37f6b5fab8052498a",
    "collapsed": true
   },
   "source": [
    "### Numerical and Categorical features"
   ]
  },
  {
   "cell_type": "code",
   "execution_count": null,
   "metadata": {
    "_cell_guid": "c82bc1df-c600-4459-8745-80af7a9ae61e",
    "_uuid": "2e0695a987aa62e631f19313158d542028a6d1ad"
   },
   "outputs": [],
   "source": [
    "numerical_feats = df_train.dtypes[df_train.dtypes != \"object\"].index\n",
    "print(\"Number of Numerical features: \", len(numerical_feats))\n",
    "\n",
    "categorical_feats = df_train.dtypes[df_train.dtypes == \"object\"].index\n",
    "print(\"Number of Categorical features: \", len(categorical_feats))"
   ]
  },
  {
   "cell_type": "code",
   "execution_count": null,
   "metadata": {
    "_cell_guid": "ad1919f2-44ab-4317-bf5f-385097148fe0",
    "_uuid": "55224cb8c326a8e9ea7cc057a03900b911a62521"
   },
   "outputs": [],
   "source": [
    "print(df_train[numerical_feats].columns)\n",
    "print(\"*\"*100)\n",
    "print(df_train[categorical_feats].columns)"
   ]
  },
  {
   "cell_type": "code",
   "execution_count": null,
   "metadata": {
    "_cell_guid": "ada8f937-d3b1-45fd-81a2-6a79accbbde7",
    "_uuid": "e92eda57644d6d334fb62bb4b2e7639b93bade2f"
   },
   "outputs": [],
   "source": [
    "df_train[numerical_feats].head()"
   ]
  },
  {
   "cell_type": "code",
   "execution_count": null,
   "metadata": {
    "_cell_guid": "670ca74f-b296-4c63-b530-228b49cb79ed",
    "_uuid": "02bc231e6be5576dc54d320d25a19a154e5f894b"
   },
   "outputs": [],
   "source": [
    "df_train[categorical_feats].head()"
   ]
  },
  {
   "cell_type": "markdown",
   "metadata": {
    "_uuid": "30888587be60d02ec84e69403db0d84d8b480b27"
   },
   "source": [
    "### List of features with missing values"
   ]
  },
  {
   "cell_type": "code",
   "execution_count": null,
   "metadata": {
    "_uuid": "9d6b3178aaa655418824255478a8c1eff3df7a39"
   },
   "outputs": [],
   "source": [
    "total = df_train.isnull().sum().sort_values(ascending=False)\n",
    "percent = (df_train.isnull().sum()/df_train.isnull().count()).sort_values(ascending=False)\n",
    "missing_data = pd.concat([total, percent], axis=1, keys=['Total', 'Percent'])\n",
    "missing_data.head(20)"
   ]
  },
  {
   "cell_type": "markdown",
   "metadata": {
    "_uuid": "aa76acfcdf970f688324ef7728e87c509b267840"
   },
   "source": [
    "**Filling missing values**  \n",
    "For a few columns there is lots of NaN entries.  \n",
    "However, reading the data description we find this is not missing data:  \n",
    "For PoolQC, NaN is not missing data but means no pool, likewise for Fence, FireplaceQu etc.  "
   ]
  },
  {
   "cell_type": "code",
   "execution_count": null,
   "metadata": {
    "_uuid": "62180708ee43cdaf6701a56097b68689c4835db1"
   },
   "outputs": [],
   "source": [
    "# columns where NaN values have meaning e.g. no pool etc.\n",
    "cols_fillna = ['PoolQC','MiscFeature','Alley','Fence','MasVnrType','FireplaceQu',\n",
    "               'GarageQual','GarageCond','GarageFinish','GarageType', 'Electrical',\n",
    "               'KitchenQual', 'SaleType', 'Functional', 'Exterior2nd', 'Exterior1st',\n",
    "               'BsmtExposure','BsmtCond','BsmtQual','BsmtFinType1','BsmtFinType2',\n",
    "               'MSZoning', 'Utilities']\n",
    "\n",
    "# replace 'NaN' with 'None' in these columns\n",
    "for col in cols_fillna:\n",
    "    df_train[col].fillna('None',inplace=True)\n",
    "    df_test[col].fillna('None',inplace=True)"
   ]
  },
  {
   "cell_type": "code",
   "execution_count": null,
   "metadata": {
    "_uuid": "aa35efcef84cf7c53e868cd47da7a4824cfff5d4"
   },
   "outputs": [],
   "source": [
    "total = df_train.isnull().sum().sort_values(ascending=False)\n",
    "percent = (df_train.isnull().sum()/df_train.isnull().count()).sort_values(ascending=False)\n",
    "missing_data = pd.concat([total, percent], axis=1, keys=['Total', 'Percent'])\n",
    "missing_data.head(5)"
   ]
  },
  {
   "cell_type": "code",
   "execution_count": null,
   "metadata": {
    "_uuid": "4497548f45742f9ff958639c0be1f8ac1ef1fef1"
   },
   "outputs": [],
   "source": [
    "# fillna with mean for the remaining columns: LotFrontage, GarageYrBlt, MasVnrArea\n",
    "df_train.fillna(df_train.mean(), inplace=True)\n",
    "df_test.fillna(df_test.mean(), inplace=True)"
   ]
  },
  {
   "cell_type": "code",
   "execution_count": null,
   "metadata": {
    "_uuid": "04cc6544ed9a50bf2491a20f1076d8429f310cd0"
   },
   "outputs": [],
   "source": [
    "total = df_train.isnull().sum().sort_values(ascending=False)\n",
    "percent = (df_train.isnull().sum()/df_train.isnull().count()).sort_values(ascending=False)\n",
    "missing_data = pd.concat([total, percent], axis=1, keys=['Total', 'Percent'])\n",
    "missing_data.head(5)"
   ]
  },
  {
   "cell_type": "markdown",
   "metadata": {
    "_uuid": "4a707cb113a619223fc79e388c2490e56cee719d"
   },
   "source": [
    "**Missing values in train data ?**"
   ]
  },
  {
   "cell_type": "code",
   "execution_count": null,
   "metadata": {
    "_uuid": "a7c5dcf6166805d75631dae0c2e21847c4b96c54"
   },
   "outputs": [],
   "source": [
    "df_train.isnull().sum().sum()"
   ]
  },
  {
   "cell_type": "markdown",
   "metadata": {
    "_uuid": "aff753619fa6b1ba33d6db3e4a5ffeb167940421"
   },
   "source": [
    "**Missing values in test data ?**"
   ]
  },
  {
   "cell_type": "code",
   "execution_count": null,
   "metadata": {
    "_uuid": "999e41a9fad078a81482c65e6c1ece1c9716d927"
   },
   "outputs": [],
   "source": [
    "df_test.isnull().sum().sum()"
   ]
  },
  {
   "cell_type": "code",
   "execution_count": null,
   "metadata": {
    "_uuid": "e6ce7ee7b166b06fbe9a86f5d56d0a91abb52b29"
   },
   "outputs": [],
   "source": []
  },
  {
   "cell_type": "markdown",
   "metadata": {
    "_uuid": "333c4119c5db1c559143d43a22b4ea3802b7ea7a"
   },
   "source": [
    "### log transform\n",
    "Like the target variable, also some of the feature values are not normally distributed and it is therefore better to use log values in df_train and df_test. Checking for skewness and kurtosis:"
   ]
  },
  {
   "cell_type": "code",
   "execution_count": null,
   "metadata": {
    "_uuid": "2e701dec7e773c7c27a311f0df842ba719512cb7"
   },
   "outputs": [],
   "source": [
    "for col in numerical_feats:\n",
    "    print('{:15}'.format(col), \n",
    "          'Skewness: {:05.2f}'.format(df_train[col].skew()) , \n",
    "          '   ' ,\n",
    "          'Kurtosis: {:06.2f}'.format(df_train[col].kurt())  \n",
    "         )"
   ]
  },
  {
   "cell_type": "code",
   "execution_count": null,
   "metadata": {
    "_uuid": "5e2569e00736b0d39c81a7d3391dc5c6d1ba1691"
   },
   "outputs": [],
   "source": [
    "sns.distplot(df_train['GrLivArea']);\n",
    "#skewness and kurtosis\n",
    "print(\"Skewness: %f\" % df_train['GrLivArea'].skew())\n",
    "print(\"Kurtosis: %f\" % df_train['GrLivArea'].kurt())"
   ]
  },
  {
   "cell_type": "code",
   "execution_count": null,
   "metadata": {
    "_uuid": "63f79f873342a60c05b2421a828f91a3f2d76ef4"
   },
   "outputs": [],
   "source": [
    "sns.distplot(df_train['LotArea']);\n",
    "#skewness and kurtosis\n",
    "print(\"Skewness: %f\" % df_train['LotArea'].skew())\n",
    "print(\"Kurtosis: %f\" % df_train['LotArea'].kurt())"
   ]
  },
  {
   "cell_type": "code",
   "execution_count": null,
   "metadata": {
    "_uuid": "ad07bd842fe0503096727cccfc26970f5ffcf06f"
   },
   "outputs": [],
   "source": [
    "for df in [df_train, df_test]:\n",
    "    df['GrLivArea_Log'] = np.log(df['GrLivArea'])\n",
    "    df.drop('GrLivArea', inplace= True, axis = 1)\n",
    "    df['LotArea_Log'] = np.log(df['LotArea'])\n",
    "    df.drop('LotArea', inplace= True, axis = 1)\n",
    "    \n",
    "    \n",
    "    \n",
    "numerical_feats = df_train.dtypes[df_train.dtypes != \"object\"].index\n",
    "   "
   ]
  },
  {
   "cell_type": "code",
   "execution_count": null,
   "metadata": {
    "_uuid": "08f2b9daefb1a6af0e65b18499f434acc4b250fa"
   },
   "outputs": [],
   "source": [
    "sns.distplot(df_train['GrLivArea_Log']);\n",
    "#skewness and kurtosis\n",
    "print(\"Skewness: %f\" % df_train['GrLivArea_Log'].skew())\n",
    "print(\"Kurtosis: %f\" % df_train['GrLivArea_Log'].kurt())"
   ]
  },
  {
   "cell_type": "code",
   "execution_count": null,
   "metadata": {
    "_uuid": "d8e46c30bb980087cb7ba93f41c777d7b68c7925"
   },
   "outputs": [],
   "source": [
    "sns.distplot(df_train['LotArea_Log']);\n",
    "#skewness and kurtosis\n",
    "print(\"Skewness: %f\" % df_train['LotArea_Log'].skew())\n",
    "print(\"Kurtosis: %f\" % df_train['LotArea_Log'].kurt())"
   ]
  },
  {
   "cell_type": "markdown",
   "metadata": {
    "_uuid": "747ed71028f629b1ac1b939a176657cf2ab5c6e2"
   },
   "source": [
    "## 1.2 Relation of features to target (SalePrice_log)"
   ]
  },
  {
   "cell_type": "markdown",
   "metadata": {
    "_cell_guid": "e88ca119-de0b-4586-98e7-c0cd44ab6910",
    "_uuid": "869ab5ce06af3aea86322d8b347479b6e5751814"
   },
   "source": [
    "### Plots of relation to target for all numerical features"
   ]
  },
  {
   "cell_type": "code",
   "execution_count": null,
   "metadata": {
    "_uuid": "f28e3d25da1f8928eaef660482dbe13e325d7fd6"
   },
   "outputs": [],
   "source": [
    "nr_rows = 12\n",
    "nr_cols = 3\n",
    "\n",
    "fig, axs = plt.subplots(nr_rows, nr_cols, figsize=(nr_cols*3.5,nr_rows*3))\n",
    "\n",
    "li_num_feats = list(numerical_feats)\n",
    "li_not_plot = ['Id', 'SalePrice', 'SalePrice_Log']\n",
    "li_plot_num_feats = [c for c in list(numerical_feats) if c not in li_not_plot]\n",
    "\n",
    "\n",
    "for r in range(0,nr_rows):\n",
    "    for c in range(0,nr_cols):  \n",
    "        i = r*nr_cols+c\n",
    "        if i < len(li_plot_num_feats):\n",
    "            sns.regplot(df_train[li_plot_num_feats[i]], df_train[target], ax = axs[r][c])\n",
    "            stp = stats.pearsonr(df_train[li_plot_num_feats[i]], df_train[target])\n",
    "            #axs[r][c].text(0.4,0.9,\"title\",fontsize=7)\n",
    "            str_title = \"r = \" + \"{0:.2f}\".format(stp[0]) + \"      \" \"p = \" + \"{0:.2f}\".format(stp[1])\n",
    "            axs[r][c].set_title(str_title,fontsize=11)\n",
    "            \n",
    "plt.tight_layout()    \n",
    "plt.show()   "
   ]
  },
  {
   "cell_type": "markdown",
   "metadata": {
    "_cell_guid": "07740a26-b7d8-4cd0-89c1-b3b6dfd08356",
    "_uuid": "341442d8e0dfc60f43f059351018f96f2f68334c"
   },
   "source": [
    "**Conclusion from EDA on numerical columns:**\n",
    "\n",
    "We see that for some features like 'OverallQual' there is a strong linear correlation (0.79) to the target.  \n",
    "For other features like 'MSSubClass' the correlation is very weak.  \n",
    "For this kernel I decided to use only those features for prediction that have a correlation larger than a threshold value to SalePrice.  \n",
    "This threshold value can be choosen in the global settings : min_val_corr  \n",
    "\n",
    "With the default threshold for min_val_corr = 0.4, these features are dropped in Part 2, Data Wrangling:  \n",
    "'Id', 'MSSubClass', 'LotArea', 'OverallCond', 'BsmtFinSF2', 'BsmtUnfSF',  'LowQualFinSF',  'BsmtFullBath', 'BsmtHalfBath', 'HalfBath',   \n",
    "'BedroomAbvGr', 'KitchenAbvGr', 'EnclosedPorch', '3SsnPorch', 'ScreenPorch', 'PoolArea', 'MiscVal', 'MoSold', 'YrSold'\n",
    "\n",
    "We also see that the entries for some of the numerical columns are in fact categorical values.  \n",
    "For example, the numbers for 'OverallQual' and 'MSSubClass' represent a certain group for that feature ( see data description txt)"
   ]
  },
  {
   "cell_type": "markdown",
   "metadata": {
    "_uuid": "b9ec404a4efca016249434b31058d1452395d8c3"
   },
   "source": [
    "**Outliers**"
   ]
  },
  {
   "cell_type": "code",
   "execution_count": null,
   "metadata": {
    "_uuid": "fcc9895d63b42f3df28c62f4f99a0c235d66f91c"
   },
   "outputs": [],
   "source": [
    "df_train = df_train.drop(\n",
    "    df_train[(df_train['OverallQual']==10) & (df_train['SalePrice_Log']<12.3)].index)"
   ]
  },
  {
   "cell_type": "code",
   "execution_count": null,
   "metadata": {
    "_uuid": "3697ddedda691908f20fd16893c9986d9c7a122e"
   },
   "outputs": [],
   "source": [
    "df_train = df_train.drop(\n",
    "    df_train[(df_train['GrLivArea_Log']>8.3) & (df_train['SalePrice_Log']<12.5)].index)"
   ]
  },
  {
   "cell_type": "code",
   "execution_count": null,
   "metadata": {
    "_cell_guid": "2d9adec2-b2ce-4d55-bfed-907f6aa54a67",
    "_uuid": "c3997abbe4e53e2328e9eb37508beddc1b7e1468"
   },
   "outputs": [],
   "source": []
  },
  {
   "cell_type": "markdown",
   "metadata": {
    "_cell_guid": "03e26505-520d-45ec-921b-1f5c30f6bdcc",
    "_uuid": "d21071077de44d82202548e84069180cc6997ee4"
   },
   "source": [
    "**Find columns with strong correlation to target**  \n",
    "Only those with r > min_val_corr are used in the ML Regressors in Part 3  \n",
    "The value for min_val_corr can be chosen in global settings"
   ]
  },
  {
   "cell_type": "code",
   "execution_count": null,
   "metadata": {
    "_uuid": "d299aeca81a78f69b1b184352b8257423a5dccb5"
   },
   "outputs": [],
   "source": [
    "corr = df_train.corr()\n",
    "corr_abs = corr.abs()\n",
    "\n",
    "nr_num_cols = len(numerical_feats)\n",
    "ser_corr = corr_abs.nlargest(nr_num_cols, target)[target]\n",
    "\n",
    "cols_abv_corr_limit = list(ser_corr[ser_corr.values > min_val_corr].index)\n",
    "cols_bel_corr_limit = list(ser_corr[ser_corr.values <= min_val_corr].index)"
   ]
  },
  {
   "cell_type": "markdown",
   "metadata": {
    "_uuid": "c0a6eb1854e3a9fbe20a2f6844e10e5f94710009"
   },
   "source": [
    "### List of numerical features and their correlation coefficient to target"
   ]
  },
  {
   "cell_type": "code",
   "execution_count": null,
   "metadata": {
    "_cell_guid": "92760e45-c366-44f8-a666-fc271faf462e",
    "_uuid": "6e20e6b966981a779e0f01c74ccc4ff92976e278",
    "scrolled": false
   },
   "outputs": [],
   "source": [
    "print(ser_corr)\n",
    "print(\"*\"*30)\n",
    "print(\"List of numerical features with r above min_val_corr :\")\n",
    "print(cols_abv_corr_limit)\n",
    "print(\"*\"*30)\n",
    "print(\"List of numerical features with r below min_val_corr :\")\n",
    "print(cols_bel_corr_limit)\n"
   ]
  },
  {
   "cell_type": "markdown",
   "metadata": {
    "_cell_guid": "29f30ec0-ab3e-49c9-ae34-bb210bec5358",
    "_uuid": "498f5d47ce36e4394dff0bfab13f38df3d5bfa5e"
   },
   "source": [
    "### List of categorical features and their unique values"
   ]
  },
  {
   "cell_type": "code",
   "execution_count": null,
   "metadata": {
    "_cell_guid": "f2361bb3-53b2-4291-aa8e-b59a6a8dd866",
    "_uuid": "fb89eb7c8227f3581c0a79596e1450da1c964b6e"
   },
   "outputs": [],
   "source": [
    "for catg in list(categorical_feats) :\n",
    "    print(df_train[catg].value_counts())\n",
    "    print('#'*50)"
   ]
  },
  {
   "cell_type": "markdown",
   "metadata": {
    "_cell_guid": "28fa15f6-0a7c-4a74-a0e8-79bcd77467f2",
    "_uuid": "3f6c1fe6150fe7e524a9dd00c02fbcc9e07731b3"
   },
   "source": [
    "### Relation to SalePrice for all categorical features"
   ]
  },
  {
   "cell_type": "code",
   "execution_count": null,
   "metadata": {
    "_uuid": "fad6e3790dcdea9e1dfba5cc39207d3f32cf6836"
   },
   "outputs": [],
   "source": [
    "li_cat_feats = list(categorical_feats)\n",
    "nr_rows = 15\n",
    "nr_cols = 3\n",
    "\n",
    "fig, axs = plt.subplots(nr_rows, nr_cols, figsize=(nr_cols*4,nr_rows*3))\n",
    "\n",
    "for r in range(0,nr_rows):\n",
    "    for c in range(0,nr_cols):  \n",
    "        i = r*nr_cols+c\n",
    "        if i < len(li_cat_feats):\n",
    "            sns.boxplot(x=li_cat_feats[i], y=target, data=df_train, ax = axs[r][c])\n",
    "    \n",
    "plt.tight_layout()    \n",
    "plt.show()   "
   ]
  },
  {
   "cell_type": "markdown",
   "metadata": {
    "_cell_guid": "c77f56e8-eb65-4852-a048-769887a90c77",
    "_uuid": "7d4da4e8b39e455ef1c728d30ab9dde953277066"
   },
   "source": [
    "**Conclusion from EDA on categorical columns:**\n",
    "\n",
    "For many of the categorical there is no strong relation to the target.  \n",
    "However, for some fetaures it is easy to find a strong relation.  \n",
    "From the figures above these are : 'MSZoning', 'Neighborhood', 'Condition2', 'MasVnrType', 'ExterQual', 'BsmtQual','CentralAir', 'Electrical', 'KitchenQual', 'SaleType'\n",
    "Also for the categorical features, I use only those that show a strong relation to SalePrice. \n",
    "So the other columns are dropped when creating the ML dataframes in Part 2 :  \n",
    " 'Street', 'Alley', 'LotShape', 'LandContour', 'Utilities', 'LotConfig', 'LandSlope', 'Condition1',  'BldgType', 'HouseStyle', 'RoofStyle', 'RoofMatl',\n",
    "'Exterior1st', 'Exterior2nd', 'ExterCond', 'Foundation', 'BsmtCond', 'BsmtExposure', 'BsmtFinType1', 'BsmtFinType2', 'Heating', 'HeatingQC', \n",
    "'Functional', 'FireplaceQu', 'GarageType', 'GarageFinish', 'GarageQual', 'GarageCond', 'PavedDrive', 'PoolQC', 'Fence', 'MiscFeature', 'SaleCondition' \n",
    " "
   ]
  },
  {
   "cell_type": "code",
   "execution_count": null,
   "metadata": {
    "_uuid": "abd1e85f4a454842ec4e24384f30d3285677eb5b"
   },
   "outputs": [],
   "source": [
    "catg_strong_corr = [ 'MSZoning', 'Neighborhood', 'Condition2', 'MasVnrType', 'ExterQual', \n",
    "                     'BsmtQual','CentralAir', 'Electrical', 'KitchenQual', 'SaleType']\n",
    "\n",
    "catg_weak_corr = ['Street', 'Alley', 'LotShape', 'LandContour', 'Utilities', 'LotConfig', \n",
    "                  'LandSlope', 'Condition1',  'BldgType', 'HouseStyle', 'RoofStyle', \n",
    "                  'RoofMatl', 'Exterior1st', 'Exterior2nd', 'ExterCond', 'Foundation', \n",
    "                  'BsmtCond', 'BsmtExposure', 'BsmtFinType1', 'BsmtFinType2', 'Heating', \n",
    "                  'HeatingQC', 'Functional', 'FireplaceQu', 'GarageType', 'GarageFinish', \n",
    "                  'GarageQual', 'GarageCond', 'PavedDrive', 'PoolQC', 'Fence', 'MiscFeature', \n",
    "                  'SaleCondition' ]\n",
    "      "
   ]
  },
  {
   "cell_type": "code",
   "execution_count": null,
   "metadata": {
    "_cell_guid": "8ee3d83f-84d9-49ff-87a0-8c8fde69ef25",
    "_uuid": "8db72e40baea6664b871fddcc93d51307906fba7"
   },
   "outputs": [],
   "source": []
  },
  {
   "cell_type": "code",
   "execution_count": null,
   "metadata": {
    "_uuid": "8028496311c0afa2fbbf08e0f0da771dcc46b748"
   },
   "outputs": [],
   "source": []
  },
  {
   "cell_type": "code",
   "execution_count": null,
   "metadata": {
    "_cell_guid": "defc608e-f6bc-4ed4-a798-44dc4a41eca5",
    "_uuid": "ebb1adb456a38b99f04ced96534faa4e18574bea"
   },
   "outputs": [],
   "source": []
  },
  {
   "cell_type": "markdown",
   "metadata": {
    "_cell_guid": "76b03db6-e6df-4e86-ac75-cc0c73dc817a",
    "_uuid": "248f23fdafb1668b71e976395c3ec7a1976b0418"
   },
   "source": [
    "### Correlation matrix 1\n",
    "**Features with largest correlation to SalePrice_Log**  \n",
    "all numerical features with correlation coefficient above threshold "
   ]
  },
  {
   "cell_type": "code",
   "execution_count": null,
   "metadata": {
    "_uuid": "e7c383784d43f2778a6f4cc190d7c3aa8d874d20"
   },
   "outputs": [],
   "source": [
    "nr_feats = len(cols_abv_corr_limit)"
   ]
  },
  {
   "cell_type": "code",
   "execution_count": null,
   "metadata": {
    "_uuid": "c19584463e28dd8d7a701e0abc51643686b3aebb",
    "scrolled": true
   },
   "outputs": [],
   "source": [
    "plot_corr_matrix(df_train, nr_feats, target)"
   ]
  },
  {
   "cell_type": "markdown",
   "metadata": {
    "_cell_guid": "b116d54c-7070-4dad-8a50-4ad2d0a497ec",
    "_uuid": "820c9ee5c757fa916855fd5d1d68b9f45b67c6c8"
   },
   "source": [
    "# Part 2: Data wrangling\n",
    "\n",
    "**Drop all columns with only small correlation to SalePrice**  \n",
    "**Transform Categorical to numerical **  \n",
    "**Handling columns with missing data**  \n",
    "**Log values**  \n",
    "**Drop all columns with strong correlation to similar features**  "
   ]
  },
  {
   "cell_type": "markdown",
   "metadata": {
    "_cell_guid": "af6a18bb-8fba-488b-9874-81b86e36b2f6",
    "_uuid": "b920b7259fbb5bd0e9a61fe7c0105b7411ddaff0"
   },
   "source": [
    "Numerical columns : drop similar and low correlation\n",
    "\n",
    "Categorical columns : Transform  to numerical"
   ]
  },
  {
   "cell_type": "markdown",
   "metadata": {
    "_cell_guid": "9fdee9d7-43ea-4da3-8141-f535a5befe23",
    "_uuid": "720a843ec777af89dcdaecb5a76eb3db648c9ddb"
   },
   "source": [
    "### Dropping all columns with weak correlation to SalePrice"
   ]
  },
  {
   "cell_type": "code",
   "execution_count": null,
   "metadata": {
    "_cell_guid": "c9060ced-3e98-4cbd-b4e9-654bb12b7533",
    "_uuid": "34a3cd86d7248ca14188410b895f6c484130eab8"
   },
   "outputs": [],
   "source": [
    "id_test = df_test['Id']\n",
    "\n",
    "to_drop_num  = cols_bel_corr_limit\n",
    "to_drop_catg = catg_weak_corr\n",
    "\n",
    "cols_to_drop = ['Id'] + to_drop_num + to_drop_catg \n",
    "\n",
    "for df in [df_train, df_test]:\n",
    "    df.drop(cols_to_drop, inplace= True, axis = 1)\n"
   ]
  },
  {
   "cell_type": "markdown",
   "metadata": {
    "_cell_guid": "c59c858f-6a33-43fc-8629-d6485e1ee2d1",
    "_uuid": "7993ceb29442e697a52b5ecd32038326e7abc0f0",
    "collapsed": true
   },
   "source": [
    "### Convert categorical columns to numerical  \n",
    "For those categorcial features where the EDA with boxplots seem to show a strong dependence of the SalePrice on the category, we transform the columns to numerical.\n",
    "To investigate the relation of the categories to SalePrice in more detail, we make violinplots for these features \n",
    "Also, we look at the mean of SalePrice as function of category."
   ]
  },
  {
   "cell_type": "code",
   "execution_count": null,
   "metadata": {
    "_cell_guid": "714aa555-f2b5-4629-9c2f-028198b85137",
    "_uuid": "9548ec95c12177cee96bda66f712d32cd5503e49"
   },
   "outputs": [],
   "source": [
    "catg_list = catg_strong_corr.copy()\n",
    "catg_list.remove('Neighborhood')\n",
    "\n",
    "for catg in catg_list :\n",
    "    #sns.catplot(x=catg, y=target, data=df_train, kind='boxen')\n",
    "    sns.violinplot(x=catg, y=target, data=df_train)\n",
    "    plt.show()\n",
    "    #sns.boxenplot(x=catg, y=target, data=df_train)\n",
    "    #bp = df_train.boxplot(column=[target], by=catg)"
   ]
  },
  {
   "cell_type": "code",
   "execution_count": null,
   "metadata": {
    "_uuid": "3df8d699d786c8753d80170b904e33f4548dd759"
   },
   "outputs": [],
   "source": [
    "fig, ax = plt.subplots()\n",
    "fig.set_size_inches(16, 5)\n",
    "sns.violinplot(x='Neighborhood', y=target, data=df_train, ax=ax)\n",
    "plt.xticks(rotation=45)\n",
    "plt.show()"
   ]
  },
  {
   "cell_type": "code",
   "execution_count": null,
   "metadata": {
    "_cell_guid": "8cd5b7b8-e4a4-4889-8086-0cf858ccac3f",
    "_uuid": "4a26b9b7cdf02946af4d26a40a1d4307000418b6"
   },
   "outputs": [],
   "source": [
    "for catg in catg_list :\n",
    "    g = df_train.groupby(catg)[target].mean()\n",
    "    print(g)"
   ]
  },
  {
   "cell_type": "code",
   "execution_count": null,
   "metadata": {
    "_cell_guid": "efaa07ff-305c-4b10-9c76-0ee5a4773b25",
    "_uuid": "17ae04e8143ea5e7be0e1fef2a40306f80013646"
   },
   "outputs": [],
   "source": [
    "# 'MSZoning'\n",
    "msz_catg2 = ['RM', 'RH']\n",
    "msz_catg3 = ['RL', 'FV'] \n",
    "\n",
    "\n",
    "# Neighborhood\n",
    "nbhd_catg2 = ['Blmngtn', 'ClearCr', 'CollgCr', 'Crawfor', 'Gilbert', 'NWAmes', 'Somerst', 'Timber', 'Veenker']\n",
    "nbhd_catg3 = ['NoRidge', 'NridgHt', 'StoneBr']\n",
    "\n",
    "# Condition2\n",
    "cond2_catg2 = ['Norm', 'RRAe']\n",
    "cond2_catg3 = ['PosA', 'PosN'] \n",
    "\n",
    "# SaleType\n",
    "SlTy_catg1 = ['Oth']\n",
    "SlTy_catg3 = ['CWD']\n",
    "SlTy_catg4 = ['New', 'Con']\n",
    "\n",
    "\n",
    "#[]"
   ]
  },
  {
   "cell_type": "code",
   "execution_count": null,
   "metadata": {
    "_cell_guid": "95b4621a-a5de-4b3b-af9b-ec408f813311",
    "_uuid": "8e3c8eef8f6c1fcce308329b9999a1e49bb5698f"
   },
   "outputs": [],
   "source": [
    "for df in [df_train, df_test]:\n",
    "    \n",
    "    df['MSZ_num'] = 1  \n",
    "    df.loc[(df['MSZoning'].isin(msz_catg2) ), 'MSZ_num'] = 2    \n",
    "    df.loc[(df['MSZoning'].isin(msz_catg3) ), 'MSZ_num'] = 3        \n",
    "    \n",
    "    df['NbHd_num'] = 1       \n",
    "    df.loc[(df['Neighborhood'].isin(nbhd_catg2) ), 'NbHd_num'] = 2    \n",
    "    df.loc[(df['Neighborhood'].isin(nbhd_catg3) ), 'NbHd_num'] = 3    \n",
    "\n",
    "    df['Cond2_num'] = 1       \n",
    "    df.loc[(df['Condition2'].isin(cond2_catg2) ), 'Cond2_num'] = 2    \n",
    "    df.loc[(df['Condition2'].isin(cond2_catg3) ), 'Cond2_num'] = 3    \n",
    "    \n",
    "    df['Mas_num'] = 1       \n",
    "    df.loc[(df['MasVnrType'] == 'Stone' ), 'Mas_num'] = 2 \n",
    "    \n",
    "    df['ExtQ_num'] = 1       \n",
    "    df.loc[(df['ExterQual'] == 'TA' ), 'ExtQ_num'] = 2     \n",
    "    df.loc[(df['ExterQual'] == 'Gd' ), 'ExtQ_num'] = 3     \n",
    "    df.loc[(df['ExterQual'] == 'Ex' ), 'ExtQ_num'] = 4     \n",
    "   \n",
    "    df['BsQ_num'] = 1          \n",
    "    df.loc[(df['BsmtQual'] == 'Gd' ), 'BsQ_num'] = 2     \n",
    "    df.loc[(df['BsmtQual'] == 'Ex' ), 'BsQ_num'] = 3     \n",
    " \n",
    "    df['CA_num'] = 0          \n",
    "    df.loc[(df['CentralAir'] == 'Y' ), 'CA_num'] = 1    \n",
    "\n",
    "    df['Elc_num'] = 1       \n",
    "    df.loc[(df['Electrical'] == 'SBrkr' ), 'Elc_num'] = 2 \n",
    "\n",
    "\n",
    "    df['KiQ_num'] = 1       \n",
    "    df.loc[(df['KitchenQual'] == 'TA' ), 'KiQ_num'] = 2     \n",
    "    df.loc[(df['KitchenQual'] == 'Gd' ), 'KiQ_num'] = 3     \n",
    "    df.loc[(df['KitchenQual'] == 'Ex' ), 'KiQ_num'] = 4      \n",
    "    \n",
    "    df['SlTy_num'] = 2       \n",
    "    df.loc[(df['SaleType'].isin(SlTy_catg1) ), 'SlTy_num'] = 1  \n",
    "    df.loc[(df['SaleType'].isin(SlTy_catg3) ), 'SlTy_num'] = 3  \n",
    "    df.loc[(df['SaleType'].isin(SlTy_catg4) ), 'SlTy_num'] = 4  \n",
    "  "
   ]
  },
  {
   "cell_type": "code",
   "execution_count": null,
   "metadata": {
    "_cell_guid": "c51af63f-d6c4-406d-aa9e-cec77d0ad316",
    "_uuid": "eb2bd3ab6da1993d8cc2c94b7175c4e476960644"
   },
   "outputs": [],
   "source": []
  },
  {
   "cell_type": "markdown",
   "metadata": {
    "_cell_guid": "4fb482ca-7400-4ff2-b801-130bd1c189e7",
    "_uuid": "c88849745e76bf81d58c7617edce1beab60dd7a8"
   },
   "source": [
    "### Checking correlation to SalePrice for the new numerical columns"
   ]
  },
  {
   "cell_type": "code",
   "execution_count": null,
   "metadata": {
    "_uuid": "86a81b257978eb951ea47a7bb61766d761267627"
   },
   "outputs": [],
   "source": [
    "new_col_num = ['MSZ_num', 'NbHd_num', 'Cond2_num', 'Mas_num', 'ExtQ_num', 'BsQ_num', 'CA_num', 'Elc_num', 'KiQ_num', 'SlTy_num']\n",
    "\n",
    "nr_rows = 4\n",
    "nr_cols = 3\n",
    "\n",
    "fig, axs = plt.subplots(nr_rows, nr_cols, figsize=(nr_cols*3.5,nr_rows*3))\n",
    "\n",
    "for r in range(0,nr_rows):\n",
    "    for c in range(0,nr_cols):  \n",
    "        i = r*nr_cols+c\n",
    "        if i < len(new_col_num):\n",
    "            sns.regplot(df_train[new_col_num[i]], df_train[target], ax = axs[r][c])\n",
    "            stp = stats.pearsonr(df_train[new_col_num[i]], df_train[target])\n",
    "            str_title = \"r = \" + \"{0:.2f}\".format(stp[0]) + \"      \" \"p = \" + \"{0:.2f}\".format(stp[1])\n",
    "            axs[r][c].set_title(str_title,fontsize=11)\n",
    "            \n",
    "plt.tight_layout()    \n",
    "plt.show()   "
   ]
  },
  {
   "cell_type": "markdown",
   "metadata": {
    "_uuid": "7b61c64ddd4b7c397655c7720497943abe611c1d"
   },
   "source": [
    "There are few columns with quite large correlation to SalePrice (NbHd_num, ExtQ_num, BsQ_num, KiQ_num).  \n",
    "These will probably be useful for optimal performance of the Regressors in part 3."
   ]
  },
  {
   "cell_type": "markdown",
   "metadata": {
    "_cell_guid": "84bc1d09-67dc-469f-821c-3f8576fbf556",
    "_uuid": "155c1c111282698f2145c9bdcbab0973a5d927f6"
   },
   "source": [
    "**Dropping the converted categorical columns and the new numerical columns with weak correlation**"
   ]
  },
  {
   "cell_type": "markdown",
   "metadata": {
    "_uuid": "e8630711c4d9ff5d820fdce5c1d5c6753a3a9c37"
   },
   "source": [
    "**columns and correlation before dropping**"
   ]
  },
  {
   "cell_type": "code",
   "execution_count": null,
   "metadata": {
    "_cell_guid": "1c164e71-1466-414a-8bbe-bce293841e10",
    "_uuid": "43d37913839d0582b7e9b225a8911e7a5532f199",
    "scrolled": true
   },
   "outputs": [],
   "source": [
    "catg_cols_to_drop = ['Neighborhood' , 'Condition2', 'MasVnrType', 'ExterQual', 'BsmtQual','CentralAir', 'Electrical', 'KitchenQual', 'SaleType']\n",
    "\n",
    "corr1 = df_train.corr()\n",
    "corr_abs_1 = corr1.abs()\n",
    "\n",
    "nr_all_cols = len(df_train)\n",
    "ser_corr_1 = corr_abs_1.nlargest(nr_all_cols, target)[target]\n",
    "\n",
    "print(ser_corr_1)\n",
    "cols_bel_corr_limit_1 = list(ser_corr_1[ser_corr_1.values <= min_val_corr].index)\n",
    "\n",
    "\n",
    "for df in [df_train, df_test] :\n",
    "    df.drop(catg_cols_to_drop, inplace= True, axis = 1)\n",
    "    df.drop(cols_bel_corr_limit_1, inplace= True, axis = 1)    "
   ]
  },
  {
   "cell_type": "markdown",
   "metadata": {
    "_uuid": "5c3095dae8ac9cda8f478325a6900f947c382cdb"
   },
   "source": [
    "**columns and correlation after dropping**"
   ]
  },
  {
   "cell_type": "code",
   "execution_count": null,
   "metadata": {
    "_cell_guid": "7fff248f-2bb6-4c94-ad1d-48a093fef98b",
    "_uuid": "f4f80fe431c9b37a95d56e847452fa6539d1a0dd",
    "scrolled": true
   },
   "outputs": [],
   "source": [
    "corr2 = df_train.corr()\n",
    "corr_abs_2 = corr2.abs()\n",
    "\n",
    "nr_all_cols = len(df_train)\n",
    "ser_corr_2 = corr_abs_2.nlargest(nr_all_cols, target)[target]\n",
    "\n",
    "print(ser_corr_2)"
   ]
  },
  {
   "cell_type": "markdown",
   "metadata": {
    "_cell_guid": "a4229928-b73d-4d99-9d52-c3c516ba9435",
    "_uuid": "3c736b6b19a8cccdd2a11ea914d180ac64b70eaa"
   },
   "source": [
    "**new dataframes**"
   ]
  },
  {
   "cell_type": "code",
   "execution_count": null,
   "metadata": {
    "_cell_guid": "61560bc6-d003-4503-9757-ccada63c3197",
    "_uuid": "ab7c9da8273d8cd9a60b42bdd87c75cce423d0eb"
   },
   "outputs": [],
   "source": [
    "df_train.head()"
   ]
  },
  {
   "cell_type": "code",
   "execution_count": null,
   "metadata": {
    "_cell_guid": "4b9deaa3-7f39-4689-a182-5b0d046cd0a9",
    "_uuid": "e5ec57f261fb20bb5f254d0d99c920b28900ab07"
   },
   "outputs": [],
   "source": [
    "df_test.head()"
   ]
  },
  {
   "cell_type": "code",
   "execution_count": null,
   "metadata": {
    "_cell_guid": "f3c1dc86-db41-46f3-a5ee-e48c5dbb9223",
    "_uuid": "acabf863be234efbb8f506e3b851ab47751f7f78"
   },
   "outputs": [],
   "source": []
  },
  {
   "cell_type": "markdown",
   "metadata": {
    "_cell_guid": "2c44d3b2-6357-4168-834f-caf6636772cb",
    "_uuid": "a11412c263d125288bf2c968ef558b931e026dfb"
   },
   "source": [
    "**List of all features with strong correlation to SalePrice_Log**  \n",
    "after dropping all coumns with weak correlation"
   ]
  },
  {
   "cell_type": "code",
   "execution_count": null,
   "metadata": {
    "_cell_guid": "333117c2-e7de-478b-8380-2eb3067d3a7c",
    "_uuid": "e8a193eab635320a8486c6e358ddd2d3e6c1a1bd",
    "scrolled": true
   },
   "outputs": [],
   "source": [
    "corr = df_train.corr()\n",
    "corr_abs = corr.abs()\n",
    "\n",
    "nr_all_cols = len(df_train)\n",
    "print (corr_abs.nlargest(nr_all_cols, target)[target])"
   ]
  },
  {
   "cell_type": "markdown",
   "metadata": {
    "_uuid": "7bf15b54d9d61e69871778af8819acd1d77a2ed7"
   },
   "source": [
    "### Correlation Matrix 2 : All features with strong correlation to SalePrice"
   ]
  },
  {
   "cell_type": "code",
   "execution_count": null,
   "metadata": {
    "_uuid": "5d3d5c75d32c79671e77a85ec253d081c00c4b95"
   },
   "outputs": [],
   "source": [
    "nr_feats=len(df_train.columns)\n",
    "plot_corr_matrix(df_train, nr_feats, target)"
   ]
  },
  {
   "cell_type": "markdown",
   "metadata": {
    "_uuid": "036ca6ed0b15fc79d6faf535f0d992742a459641"
   },
   "source": [
    "**Check for Multicollinearity**\n",
    "\n",
    "Strong correlation of these features to other, similar features:\n",
    "\n",
    "'GrLivArea_Log' and 'TotRmsAbvGrd'\n",
    "\n",
    "'GarageCars' and 'GarageArea'\n",
    "\n",
    "'TotalBsmtSF' and '1stFlrSF'\n",
    "\n",
    "'YearBuilt' and 'GarageYrBlt'\n",
    "\n",
    "**Of those features we drop the one that has smaller correlation coeffiecient to Target.**"
   ]
  },
  {
   "cell_type": "code",
   "execution_count": null,
   "metadata": {
    "_cell_guid": "61a46b24-952e-4f0b-8239-443c607163b3",
    "_uuid": "157093ba644f6bdf21373ccabc7d88bb720a7f9f"
   },
   "outputs": [],
   "source": [
    "cols = corr_abs.nlargest(nr_all_cols, target)[target].index\n",
    "cols = list(cols)\n",
    "\n",
    "if drop_similar == 1 :\n",
    "    for col in ['GarageArea','1stFlrSF','TotRmsAbvGrd','GarageYrBlt'] :\n",
    "        if col in cols: \n",
    "            cols.remove(col)"
   ]
  },
  {
   "cell_type": "code",
   "execution_count": null,
   "metadata": {
    "_cell_guid": "08e04240-fbb5-4b26-9600-0b2e9bef7cf3",
    "_uuid": "4d25187f1075633181b4a804e8352c9349ff28dd"
   },
   "outputs": [],
   "source": [
    "cols = list(cols)\n",
    "print(cols)"
   ]
  },
  {
   "cell_type": "markdown",
   "metadata": {
    "_cell_guid": "ca2c29a5-3876-4cd5-808b-68e6eac2b177",
    "_uuid": "7b47fa2592bd967415335ebb58888fc8aae90b26",
    "collapsed": true
   },
   "source": [
    "**List of features used for the Regressors in Part 3**"
   ]
  },
  {
   "cell_type": "code",
   "execution_count": null,
   "metadata": {
    "_cell_guid": "1c3cc30b-cf6b-4d40-a1f8-cf6002c5706a",
    "_uuid": "dbc81257ef524daf9487ba0b19d9e23afa2f3a18"
   },
   "outputs": [],
   "source": [
    "feats = cols.copy()\n",
    "feats.remove('SalePrice_Log')\n",
    "\n",
    "print(feats)"
   ]
  },
  {
   "cell_type": "code",
   "execution_count": null,
   "metadata": {
    "_cell_guid": "fd840fd6-b8d5-4f7e-889c-a01605247db3",
    "_uuid": "24e892ceae3b6c4f81c611fc7ddf1d83313aa995"
   },
   "outputs": [],
   "source": [
    "df_train_ml = df_train[feats].copy()\n",
    "df_test_ml  = df_test[feats].copy()\n",
    "\n",
    "y = df_train[target]"
   ]
  },
  {
   "cell_type": "markdown",
   "metadata": {
    "_cell_guid": "bd62787c-71aa-4c3c-968b-54dad8e5c8cc",
    "_uuid": "404d9cde69e1efd7ff2cd519be0b5b9c821b32d0"
   },
   "source": [
    "**Combine train and test data**  \n",
    "for one hot encoding (use pandas get dummies) of all categorical features  \n",
    "uncommenting the following cell increases the number of features  \n",
    "up to now, all models in Part 3 are optimized for not applying one hot encoder  \n",
    "when applied, GridSearchCV needs to be rerun"
   ]
  },
  {
   "cell_type": "code",
   "execution_count": null,
   "metadata": {
    "_uuid": "4a1e2c1e3428075613e4689d5d62227ad70a0d79"
   },
   "outputs": [],
   "source": [
    "\"\"\"\n",
    "all_data = pd.concat((df_train[feats], df_test[feats]))\n",
    "\n",
    "li_get_dummies = ['OverallQual', 'NbHd_num', 'GarageCars','ExtQ_num', 'KiQ_num',\n",
    "                  'BsQ_num', 'FullBath', 'Fireplaces', 'MSZ_num']\n",
    "all_data = pd.get_dummies(all_data, columns=li_get_dummies, drop_first=True)\n",
    "\n",
    "df_train_ml = all_data[:df_train.shape[0]]\n",
    "df_test_ml  = all_data[df_train.shape[0]:]\n",
    "\"\"\""
   ]
  },
  {
   "cell_type": "code",
   "execution_count": null,
   "metadata": {
    "_uuid": "1c60db0dd59a09e51c4231426d9ce40e71691aea"
   },
   "outputs": [],
   "source": []
  },
  {
   "cell_type": "markdown",
   "metadata": {
    "_cell_guid": "f885ae94-ad18-4497-a38d-a3be7e24c1ae",
    "_uuid": "256ba3dd0c61a19cbd3c7a5489800663d0d98e1d"
   },
   "source": [
    "### StandardScaler"
   ]
  },
  {
   "cell_type": "code",
   "execution_count": null,
   "metadata": {
    "_cell_guid": "1f22be1d-ddd3-4f08-98e5-431ce629595b",
    "_uuid": "f4b667a9d696bb9637433cec2a66a1c9dfa5b8be"
   },
   "outputs": [],
   "source": [
    "from sklearn.preprocessing import StandardScaler\n",
    "\n",
    "sc = StandardScaler()\n",
    "df_train_ml_sc = sc.fit_transform(df_train_ml)\n",
    "df_test_ml_sc = sc.transform(df_test_ml)"
   ]
  },
  {
   "cell_type": "code",
   "execution_count": null,
   "metadata": {
    "_uuid": "24d2e8b1a1d1dfc2391714d72b98c51f4b2a12a6"
   },
   "outputs": [],
   "source": [
    "df_train_ml_sc = pd.DataFrame(df_train_ml_sc)\n",
    "df_train_ml_sc.head()"
   ]
  },
  {
   "cell_type": "markdown",
   "metadata": {
    "_cell_guid": "62da3a57-7639-4416-ad72-463232713f92",
    "_uuid": "c4429b793fb5d261ccc195f6d464cfa17f35be36"
   },
   "source": [
    "**Creating Datasets for ML algorithms**"
   ]
  },
  {
   "cell_type": "code",
   "execution_count": null,
   "metadata": {
    "_cell_guid": "5692af40-4583-4678-8da1-7fb46da67abe",
    "_uuid": "e2d5b35a917018ef791243d79880dc7c8beb924b"
   },
   "outputs": [],
   "source": [
    "X = df_train_ml.copy()\n",
    "y = df_train[target]\n",
    "X_test = df_test_ml.copy()\n",
    "\n",
    "X_sc = df_train_ml_sc.copy()\n",
    "y_sc = df_train[target]\n",
    "X_test_sc = df_test_ml_sc.copy()\n",
    "\n",
    "X.info()\n",
    "X_test.info()"
   ]
  },
  {
   "cell_type": "code",
   "execution_count": null,
   "metadata": {
    "_uuid": "ff6c7d75d6713d950da9338d7bdc19d15fd4c778"
   },
   "outputs": [],
   "source": [
    "X.head()"
   ]
  },
  {
   "cell_type": "code",
   "execution_count": null,
   "metadata": {
    "_uuid": "ed900bf91f0317f9ed4cc761de986961aa567288",
    "scrolled": true
   },
   "outputs": [],
   "source": [
    "X_sc.head()"
   ]
  },
  {
   "cell_type": "code",
   "execution_count": null,
   "metadata": {
    "_uuid": "a2382242fc7069ed88bbcf38f297f7935feeb906"
   },
   "outputs": [],
   "source": [
    "X_test.head()"
   ]
  },
  {
   "cell_type": "markdown",
   "metadata": {
    "_cell_guid": "af1005db-773f-468f-9d8e-2fb60ff6ce79",
    "_uuid": "19b92108f1bd285b9bf4ec2e9925bc4d1203a366"
   },
   "source": [
    "# Part 3: Scikit-learn basic regression models and comparison of results\n",
    "\n",
    "**Test simple sklearn models and compare by metrics**\n",
    "\n",
    "**We test the following Regressors from scikit-learn:**  \n",
    "LinearRegression  \n",
    "Ridge  \n",
    "Lasso  \n",
    "Elastic Net  \n",
    "Stochastic Gradient Descent  \n",
    "DecisionTreeRegressor  \n",
    "RandomForestRegressor  \n",
    "SVR "
   ]
  },
  {
   "cell_type": "markdown",
   "metadata": {
    "_cell_guid": "0f08b45f-98ad-413c-836f-c62781d8dcbc",
    "_uuid": "b844496e1e5cd510a414207eac8ef4c3bc9129be"
   },
   "source": [
    "**Model tuning and selection with GridSearchCV**"
   ]
  },
  {
   "cell_type": "code",
   "execution_count": null,
   "metadata": {
    "_cell_guid": "c24a321c-6ca4-4a79-bd7c-3fd8a5efde1a",
    "_uuid": "9c3b6cd6e6c58ce709ee38a8fd648897096a85ac"
   },
   "outputs": [],
   "source": [
    "from sklearn.model_selection import GridSearchCV\n",
    "score_calc = 'neg_mean_squared_error'"
   ]
  },
  {
   "cell_type": "markdown",
   "metadata": {
    "_cell_guid": "e372dad6-542f-42fa-bf33-e3536dd71a4e",
    "_uuid": "1636336de89909126232a83f28d32dd6991f21cd"
   },
   "source": [
    "### Linear Regression"
   ]
  },
  {
   "cell_type": "code",
   "execution_count": null,
   "metadata": {
    "_cell_guid": "aaf202bf-f95a-4e87-92bb-3b8ff58443fa",
    "_uuid": "67348784681fbbfe7c6d6c36eb06aac1a5dc2c20"
   },
   "outputs": [],
   "source": [
    "from sklearn.linear_model import LinearRegression\n",
    "\n",
    "linreg = LinearRegression()\n",
    "parameters = {'fit_intercept':[True,False], 'normalize':[True,False], 'copy_X':[True, False]}\n",
    "grid_linear = GridSearchCV(linreg, parameters, cv=nr_cv, verbose=1 , scoring = score_calc)\n",
    "grid_linear.fit(X, y)\n",
    "\n",
    "sc_linear = get_best_score(grid_linear)"
   ]
  },
  {
   "cell_type": "code",
   "execution_count": null,
   "metadata": {
    "_uuid": "ac70b1fd0651be7907b1b4b24e3d945973d21af9"
   },
   "outputs": [],
   "source": [
    "linreg_sc = LinearRegression()\n",
    "parameters = {'fit_intercept':[True,False], 'normalize':[True,False], 'copy_X':[True, False]}\n",
    "grid_linear_sc = GridSearchCV(linreg_sc, parameters, cv=nr_cv, verbose=1 , scoring = score_calc)\n",
    "grid_linear_sc.fit(X_sc, y)\n",
    "\n",
    "sc_linear_sc = get_best_score(grid_linear_sc)"
   ]
  },
  {
   "cell_type": "code",
   "execution_count": null,
   "metadata": {
    "_cell_guid": "466e2a75-405e-4b46-b0d8-a53dc76f8f34",
    "_uuid": "1c3c851e777e937349843541cdef93f9ea3fb803"
   },
   "outputs": [],
   "source": [
    "linregr_all = LinearRegression()\n",
    "#linregr_all.fit(X_train_all, y_train_all)\n",
    "linregr_all.fit(X, y)\n",
    "pred_linreg_all = linregr_all.predict(X_test)\n",
    "pred_linreg_all[pred_linreg_all < 0] = pred_linreg_all.mean()"
   ]
  },
  {
   "cell_type": "code",
   "execution_count": null,
   "metadata": {
    "_cell_guid": "8036bd3c-cfb5-473e-be6d-c4fdeb48753b",
    "_uuid": "038df19ba577bde50bca7b5489c9c6aae90a3cbe"
   },
   "outputs": [],
   "source": [
    "sub_linreg = pd.DataFrame()\n",
    "sub_linreg['Id'] = id_test\n",
    "sub_linreg['SalePrice'] = pred_linreg_all\n",
    "#sub_linreg.to_csv('linreg.csv',index=False)"
   ]
  },
  {
   "cell_type": "markdown",
   "metadata": {
    "_cell_guid": "7ffe067d-1ae5-43b1-85a4-f23f2dcec12c",
    "_uuid": "9a3936f5c045c77981b41af9f346e49df1f6666e"
   },
   "source": [
    "### Ridge"
   ]
  },
  {
   "cell_type": "code",
   "execution_count": null,
   "metadata": {
    "_cell_guid": "41a68e45-de42-40c5-bbfe-fb815b721015",
    "_uuid": "b922557da8afc373fce8680439338963c7d18619"
   },
   "outputs": [],
   "source": [
    "from sklearn.linear_model import Ridge\n",
    "\n",
    "ridge = Ridge()\n",
    "parameters = {'alpha':[0.001,0.005,0.01,0.1,0.5,1], 'normalize':[True,False], 'tol':[1e-06,5e-06,1e-05,5e-05]}\n",
    "grid_ridge = GridSearchCV(ridge, parameters, cv=nr_cv, verbose=1, scoring = score_calc)\n",
    "grid_ridge.fit(X, y)\n",
    "\n",
    "sc_ridge = get_best_score(grid_ridge)"
   ]
  },
  {
   "cell_type": "code",
   "execution_count": null,
   "metadata": {
    "_uuid": "a27399eb4eaceba8a4325888c5d3541b1d9935da"
   },
   "outputs": [],
   "source": [
    "ridge_sc = Ridge()\n",
    "parameters = {'alpha':[0.001,0.005,0.01,0.1,0.5,1], 'normalize':[True,False], 'tol':[1e-06,5e-06,1e-05,5e-05]}\n",
    "grid_ridge_sc = GridSearchCV(ridge_sc, parameters, cv=nr_cv, verbose=1, scoring = score_calc)\n",
    "grid_ridge_sc.fit(X_sc, y)\n",
    "\n",
    "sc_ridge_sc = get_best_score(grid_ridge_sc)"
   ]
  },
  {
   "cell_type": "code",
   "execution_count": null,
   "metadata": {
    "_uuid": "cf5815399a2e9a2291b78ac960ebd215a8f00d90"
   },
   "outputs": [],
   "source": [
    "pred_ridge_all = grid_ridge.predict(X_test)"
   ]
  },
  {
   "cell_type": "markdown",
   "metadata": {
    "_cell_guid": "98c4e81c-a463-4869-99d5-adad2144748b",
    "_uuid": "cd30c96fb45f5b9b691be3acffb2e0553771abf0"
   },
   "source": [
    "### Lasso"
   ]
  },
  {
   "cell_type": "code",
   "execution_count": null,
   "metadata": {
    "_cell_guid": "44294707-89c4-4822-a6f8-093bc57d7d1b",
    "_uuid": "8dc2a0c0b27ae4f58f41e5ebb0eec5f3650c5ee7"
   },
   "outputs": [],
   "source": [
    "from sklearn.linear_model import Lasso\n",
    "\n",
    "lasso = Lasso()\n",
    "parameters = {'alpha':[1e-03,0.01,0.1,0.5,0.8,1], 'normalize':[True,False], 'tol':[1e-06,1e-05,5e-05,1e-04,5e-04,1e-03]}\n",
    "grid_lasso = GridSearchCV(lasso, parameters, cv=nr_cv, verbose=1, scoring = score_calc)\n",
    "grid_lasso.fit(X, y)\n",
    "\n",
    "sc_lasso = get_best_score(grid_lasso)\n",
    "\n",
    "pred_lasso = grid_lasso.predict(X_test)"
   ]
  },
  {
   "cell_type": "markdown",
   "metadata": {
    "_cell_guid": "55e64135-e1c1-4b02-b695-75339fd5dd36",
    "_uuid": "51dde3823f9e667c3c80dacabc15d26d4215faa3"
   },
   "source": [
    "### Elastic Net"
   ]
  },
  {
   "cell_type": "code",
   "execution_count": null,
   "metadata": {
    "_uuid": "3ce660f4a826cb37f71805db59f709ef5cafd7de"
   },
   "outputs": [],
   "source": [
    "from sklearn.linear_model import ElasticNet\n",
    "\n",
    "enet = ElasticNet()\n",
    "parameters = {'alpha' :[0.1,1.0,10], 'max_iter' :[1000000], 'l1_ratio':[0.04,0.05], \n",
    "              'fit_intercept' : [False,True], 'normalize':[True,False], 'tol':[1e-02,1e-03,1e-04]}\n",
    "grid_enet = GridSearchCV(enet, parameters, cv=nr_cv, verbose=1, scoring = score_calc)\n",
    "grid_enet.fit(X_sc, y_sc)\n",
    "\n",
    "sc_enet = get_best_score(grid_enet)\n",
    "\n",
    "pred_enet = grid_enet.predict(X_test_sc)"
   ]
  },
  {
   "cell_type": "markdown",
   "metadata": {
    "_cell_guid": "bd962cda-203c-40ef-9030-b5dd1f17fb27",
    "_uuid": "270f415440592ddd1e7e8bd5eff2cad0a4752a20"
   },
   "source": [
    "### SGDRegressor  \n",
    "Linear model fitted by minimizing a regularized empirical loss with SGD. SGD stands for Stochastic Gradient Descent: the gradient of the loss is estimated each sample at a time and the model is updated along the way with a decreasing strength schedule (aka learning rate). The regularizer is a penalty added to the loss function that shrinks model parameters towards the zero vector using either the squared euclidean norm L2 or the absolute norm L1 or a combination of both (Elastic Net). "
   ]
  },
  {
   "cell_type": "code",
   "execution_count": null,
   "metadata": {
    "_cell_guid": "1da6d765-0cdf-437a-bb10-801b280d49d2",
    "_uuid": "2f2fed4f7aa72722c422995b4d982bf5841e9b07"
   },
   "outputs": [],
   "source": [
    "from sklearn.linear_model import SGDRegressor\n",
    "\n",
    "sgd = SGDRegressor()\n",
    "parameters = {'max_iter' :[10000], 'alpha':[1e-05], 'epsilon':[1e-02], 'fit_intercept' : [True]  }\n",
    "grid_sgd = GridSearchCV(sgd, parameters, cv=nr_cv, verbose=1, scoring = score_calc)\n",
    "grid_sgd.fit(X_sc, y_sc)\n",
    "\n",
    "sc_sgd = get_best_score(grid_sgd)\n",
    "\n",
    "pred_sgd = grid_sgd.predict(X_test_sc)"
   ]
  },
  {
   "cell_type": "markdown",
   "metadata": {
    "_cell_guid": "dfe45031-31be-40ff-8f3c-98ae338a4f12",
    "_uuid": "98c70216ce362078aa1d73f5addb032f38efdd86"
   },
   "source": [
    "### DecisionTreeRegressor"
   ]
  },
  {
   "cell_type": "code",
   "execution_count": null,
   "metadata": {
    "_cell_guid": "b184e9a9-89bc-44b9-b0ad-afd71d30cd30",
    "_uuid": "eaede68af24928cd34dee18ec5df5693b014d3a4"
   },
   "outputs": [],
   "source": [
    "from sklearn.tree import DecisionTreeRegressor\n",
    "\n",
    "param_grid = { 'max_depth' : [7,8,9,10] , 'max_features' : [11,12,13,14] ,\n",
    "               'max_leaf_nodes' : [None, 12,15,18,20] ,'min_samples_split' : [20,25,30],\n",
    "                'presort': [False,True] , 'random_state': [5] }\n",
    "            \n",
    "grid_dtree = GridSearchCV(DecisionTreeRegressor(), param_grid, cv=nr_cv, refit=True, verbose=1, scoring = score_calc)\n",
    "grid_dtree.fit(X, y)\n",
    "\n",
    "sc_dtree = get_best_score(grid_dtree)\n",
    "\n",
    "pred_dtree = grid_dtree.predict(X_test)"
   ]
  },
  {
   "cell_type": "code",
   "execution_count": null,
   "metadata": {
    "_cell_guid": "2a1665bf-891f-4fbb-a0e2-c67b952edd01",
    "_uuid": "494cf958af44afdabcc484e094c5f925e4c479b8"
   },
   "outputs": [],
   "source": [
    "dtree_pred = grid_dtree.predict(X_test)\n",
    "sub_dtree = pd.DataFrame()\n",
    "sub_dtree['Id'] = id_test\n",
    "sub_dtree['SalePrice'] = dtree_pred\n",
    "#sub_dtree.to_csv('dtreeregr.csv',index=False)"
   ]
  },
  {
   "cell_type": "code",
   "execution_count": null,
   "metadata": {
    "_cell_guid": "a5ba8d5f-7e76-4c03-9e64-a7e51bf248c1",
    "_uuid": "0f58096fe892b3844964e379a8c32f6cbf28ee24"
   },
   "outputs": [],
   "source": []
  },
  {
   "cell_type": "markdown",
   "metadata": {
    "_cell_guid": "4448693c-d8e2-4209-86ef-165263c376e6",
    "_uuid": "93dd6fb63e680cf520087189df4f9d34a2fb00e0"
   },
   "source": [
    "### RandomForestRegressor"
   ]
  },
  {
   "cell_type": "code",
   "execution_count": null,
   "metadata": {
    "_cell_guid": "91db1e64-a302-4b0f-b549-1388222273f3",
    "_uuid": "d19edcc37886c936b89c39c37f940e93f73b2f56",
    "scrolled": true
   },
   "outputs": [],
   "source": [
    "from sklearn.ensemble import RandomForestRegressor\n",
    "\n",
    "param_grid = {'min_samples_split' : [3,4,6,10], 'n_estimators' : [70,100], 'random_state': [5] }\n",
    "grid_rf = GridSearchCV(RandomForestRegressor(), param_grid, cv=nr_cv, refit=True, verbose=1, scoring = score_calc)\n",
    "grid_rf.fit(X, y)\n",
    "\n",
    "sc_rf = get_best_score(grid_rf)"
   ]
  },
  {
   "cell_type": "code",
   "execution_count": null,
   "metadata": {
    "_cell_guid": "9b65c3a8-f915-494f-864d-7e7e5538bc1c",
    "_uuid": "4cf408f6f3c74d1e8b2ef6ef34a3746b08c41304"
   },
   "outputs": [],
   "source": [
    "pred_rf = grid_rf.predict(X_test)\n",
    "\n",
    "sub_rf = pd.DataFrame()\n",
    "sub_rf['Id'] = id_test\n",
    "sub_rf['SalePrice'] = pred_rf \n",
    "\n",
    "if use_logvals == 1:\n",
    "    sub_rf['SalePrice'] = np.exp(sub_rf['SalePrice']) \n",
    "\n",
    "sub_rf.to_csv('rf.csv',index=False)"
   ]
  },
  {
   "cell_type": "code",
   "execution_count": null,
   "metadata": {
    "_cell_guid": "c66f29bf-51c3-4d94-94d2-a720f957c0ea",
    "_uuid": "ef5b5a5b020a4399f137365601cc5241658d4b5f"
   },
   "outputs": [],
   "source": [
    "sub_rf.head(10)"
   ]
  },
  {
   "cell_type": "code",
   "execution_count": null,
   "metadata": {},
   "outputs": [],
   "source": []
  },
  {
   "cell_type": "markdown",
   "metadata": {},
   "source": [
    "### KNN Regressor"
   ]
  },
  {
   "cell_type": "code",
   "execution_count": null,
   "metadata": {},
   "outputs": [],
   "source": [
    "from sklearn.neighbors import KNeighborsRegressor\n",
    "\n",
    "param_grid = {'n_neighbors' : [3,4,5,6,7,10,15] ,    \n",
    "              'weights' : ['uniform','distance'] ,\n",
    "              'algorithm' : ['ball_tree', 'kd_tree', 'brute']}\n",
    "\n",
    "grid_knn = GridSearchCV(KNeighborsRegressor(), param_grid, cv=nr_cv, refit=True, verbose=1, scoring = score_calc)\n",
    "grid_knn.fit(X_sc, y_sc)\n",
    "\n",
    "sc_knn = get_best_score(grid_knn)"
   ]
  },
  {
   "cell_type": "code",
   "execution_count": null,
   "metadata": {},
   "outputs": [],
   "source": [
    "pred_knn = grid_knn.predict(X_test_sc)\n",
    "\n",
    "sub_knn = pd.DataFrame()\n",
    "sub_knn['Id'] = id_test\n",
    "sub_knn['SalePrice'] = pred_knn\n",
    "\n",
    "if use_logvals == 1:\n",
    "    sub_knn['SalePrice'] = np.exp(sub_knn['SalePrice']) \n",
    "\n",
    "sub_knn.to_csv('knn.csv',index=False)"
   ]
  },
  {
   "cell_type": "code",
   "execution_count": null,
   "metadata": {},
   "outputs": [],
   "source": [
    "sub_knn.head(10)"
   ]
  },
  {
   "cell_type": "code",
   "execution_count": null,
   "metadata": {},
   "outputs": [],
   "source": []
  },
  {
   "cell_type": "markdown",
   "metadata": {},
   "source": [
    "### GaussianProcessRegressor"
   ]
  },
  {
   "cell_type": "code",
   "execution_count": null,
   "metadata": {},
   "outputs": [],
   "source": [
    "from sklearn.gaussian_process import GaussianProcessRegressor\n",
    "from sklearn.gaussian_process.kernels import DotProduct, ConstantKernel\n",
    "\n",
    "gpr = GaussianProcessRegressor(random_state=5, alpha=5e-9, \n",
    "                                n_restarts_optimizer=0, \n",
    "                               optimizer='fmin_l_bfgs_b', \n",
    "                               copy_X_train=True)\n",
    "\n",
    "param_grid = {'normalize_y' : [True,False],\n",
    "              'kernel' : [DotProduct(), ConstantKernel(1.0, (1e-3, 1e3))] }\n",
    "\n",
    "grid_gpr = GridSearchCV(gpr, param_grid, cv=nr_cv, verbose=1, scoring = score_calc)\n",
    "grid_gpr.fit(X_sc, y_sc)\n",
    "\n",
    "sc_gpr = get_best_score(grid_gpr)"
   ]
  },
  {
   "cell_type": "code",
   "execution_count": null,
   "metadata": {},
   "outputs": [],
   "source": [
    "pred_gpr = grid_gpr.predict(X_test_sc)\n",
    "\n",
    "sub_gpr = pd.DataFrame()\n",
    "sub_gpr['Id'] = id_test\n",
    "sub_gpr['SalePrice'] = pred_gpr\n",
    "\n",
    "if use_logvals == 1:\n",
    "    sub_gpr['SalePrice'] = np.exp(sub_gpr['SalePrice']) \n",
    "\n",
    "sub_gpr.to_csv('gpr.csv',index=False)"
   ]
  },
  {
   "cell_type": "code",
   "execution_count": null,
   "metadata": {
    "_cell_guid": "78df8e1b-49db-4e61-9aa9-506617277b08",
    "_uuid": "d3f120beb2a5608a85e5414037615ff3ae2cc00f"
   },
   "outputs": [],
   "source": []
  },
  {
   "cell_type": "markdown",
   "metadata": {
    "_uuid": "28e7b40962981710492752be102cc12c2ba3a0e7"
   },
   "source": [
    "### Comparison plot: RMSE of all models"
   ]
  },
  {
   "cell_type": "code",
   "execution_count": null,
   "metadata": {
    "_cell_guid": "500460da-d234-4ec0-8b8f-4582931c84c3",
    "_uuid": "4c2065b4cc13f8c5e70feb950468b9898f2325af"
   },
   "outputs": [],
   "source": [
    "list_scores = [sc_linear, sc_ridge, sc_lasso, sc_enet,\n",
    "               sc_sgd, sc_dtree, sc_rf, sc_knn, sc_gpr]\n",
    "list_regressors = ['Linear','Ridge','Lasso','ElaNet','SGD','DTr','RF','KNN','GPR']"
   ]
  },
  {
   "cell_type": "code",
   "execution_count": null,
   "metadata": {
    "_cell_guid": "e2bb3ae0-2723-479b-b3ec-d5cf9ceb1adc",
    "_uuid": "0f98c09a4d56fd4182196b896af05e1bb1c447fc"
   },
   "outputs": [],
   "source": [
    "fig, ax = plt.subplots()\n",
    "fig.set_size_inches(10,7)\n",
    "sns.barplot(x=list_regressors, y=list_scores, ax=ax)\n",
    "plt.ylabel('RMSE')\n",
    "plt.show()"
   ]
  },
  {
   "cell_type": "markdown",
   "metadata": {
    "_uuid": "d9160685c6792d6647db37c021f6d2d3bcfdc5d2"
   },
   "source": [
    "The performance of all applied Regressors is very similar, except for Decision Tree which has larger RMSE than the other models."
   ]
  },
  {
   "cell_type": "markdown",
   "metadata": {
    "_uuid": "de0639598a67c7dfd6239cab7ed63b60126d9157"
   },
   "source": [
    "### Correlation of model results"
   ]
  },
  {
   "cell_type": "code",
   "execution_count": null,
   "metadata": {
    "_uuid": "1bdd60ff3b77463bbcef0e4bc48218b5c92f866e"
   },
   "outputs": [],
   "source": [
    "predictions = {'Linear': pred_linreg_all, 'Ridge': pred_ridge_all, 'Lasso': pred_lasso,\n",
    "               'ElaNet': pred_enet, 'SGD': pred_sgd, 'DTr': pred_dtree, 'RF': pred_rf,\n",
    "               'KNN': pred_knn, 'GPR': pred_gpr}\n",
    "df_predictions = pd.DataFrame(data=predictions) \n",
    "df_predictions.corr()"
   ]
  },
  {
   "cell_type": "code",
   "execution_count": null,
   "metadata": {
    "_uuid": "e1ff812d6d0686791db42d2a421244c4e59f0e0e"
   },
   "outputs": [],
   "source": [
    "plt.figure(figsize=(7, 7))\n",
    "sns.set(font_scale=1.25)\n",
    "sns.heatmap(df_predictions.corr(), linewidths=1.5, annot=True, square=True, \n",
    "                fmt='.2f', annot_kws={'size': 10}, \n",
    "                yticklabels=df_predictions.columns , xticklabels=df_predictions.columns\n",
    "            )\n",
    "plt.show()"
   ]
  },
  {
   "cell_type": "markdown",
   "metadata": {
    "_uuid": "622a6336c569443ed0b2baf5e61ab8508fb30335"
   },
   "source": [
    "For the first five models, the predictions show a very high correlation to each other (very close to 1.00).  \n",
    "Only for Random Forest and Decision Tree, the results  are less correlated with the other Regressors. "
   ]
  },
  {
   "cell_type": "markdown",
   "metadata": {
    "_cell_guid": "d3f30924-1aa7-4f29-95ba-775b0332eadb",
    "_uuid": "23c019166afa4c5189be26f7c37e832a7b606c21"
   },
   "source": [
    "**mean of best models**"
   ]
  },
  {
   "cell_type": "code",
   "execution_count": null,
   "metadata": {
    "_cell_guid": "54deae62-1188-4608-af9c-9ccd773f0eee",
    "_uuid": "ac64c776558bf13fae94ba8b126fe1c58afd2626"
   },
   "outputs": [],
   "source": [
    "sub_mean = pd.DataFrame()\n",
    "sub_mean['Id'] = id_test\n",
    "sub_mean['SalePrice'] = np.round( (pred_lasso + pred_enet + pred_rf + pred_sgd) / 4.0 ) \n",
    "sub_mean['SalePrice'] = sub_mean['SalePrice'].astype(float)\n",
    "sub_mean.to_csv('mean.csv',index=False)"
   ]
  }
 ],
 "metadata": {
  "kernelspec": {
   "display_name": "Python 2",
   "language": "python",
   "name": "python2"
  },
  "language_info": {
   "codemirror_mode": {
    "name": "ipython",
    "version": 2
   },
   "file_extension": ".py",
   "mimetype": "text/x-python",
   "name": "python",
   "nbconvert_exporter": "python",
   "pygments_lexer": "ipython2",
   "version": "2.7.16"
  }
 },
 "nbformat": 4,
 "nbformat_minor": 1
}
